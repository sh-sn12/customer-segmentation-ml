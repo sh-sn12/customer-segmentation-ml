{
  "nbformat": 4,
  "nbformat_minor": 0,
  "metadata": {
    "colab": {
      "provenance": []
    },
    "kernelspec": {
      "name": "python3",
      "display_name": "Python 3"
    },
    "language_info": {
      "name": "python"
    }
  },
  "cells": [
    {
      "cell_type": "code",
      "execution_count": null,
      "metadata": {
        "id": "K14X7Nrlgd2S"
      },
      "outputs": [],
      "source": [
        "import pandas as pd\n",
        "import numpy as np\n",
        "from sklearn.preprocessing import LabelEncoder, StandardScaler\n"
      ]
    },
    {
      "cell_type": "code",
      "source": [
        "df = pd.read_csv(\"online_shoppers_intention.csv\")"
      ],
      "metadata": {
        "id": "q8LKZyjhl6Ph"
      },
      "execution_count": null,
      "outputs": []
    },
    {
      "cell_type": "code",
      "source": [
        "df.columns = df.columns.str.strip()"
      ],
      "metadata": {
        "id": "lCtKFQZdmOgo"
      },
      "execution_count": null,
      "outputs": []
    },
    {
      "cell_type": "code",
      "source": [
        "df['Month'] = df['Month'].str.strip().str[:3].str.title()"
      ],
      "metadata": {
        "id": "fhSXPX_TmS7w"
      },
      "execution_count": null,
      "outputs": []
    },
    {
      "cell_type": "code",
      "source": [
        "month_map = {'Jan':1,'Feb':2,'Mar':3,'Apr':4,'May':5,\n",
        "             'Jun':6,'Jul':7,'Aug':8,'Sep':9,'Oct':10,'Nov':11,'Dec':12}\n",
        "df['Month'] = df['Month'].map(month_map)"
      ],
      "metadata": {
        "id": "zEB9oOGxmWQz"
      },
      "execution_count": null,
      "outputs": []
    },
    {
      "cell_type": "code",
      "source": [
        "le = LabelEncoder()\n",
        "df['VisitorType'] = le.fit_transform(df['VisitorType'])  # 0 = New, 1 = Returning, 2 = Other\n",
        "df['Weekend'] = df['Weekend'].astype(int)\n",
        "df['Revenue'] = df['Revenue'].astype(int)"
      ],
      "metadata": {
        "id": "WEcgHgFCmi2W"
      },
      "execution_count": null,
      "outputs": []
    },
    {
      "cell_type": "code",
      "source": [
        "df['F'] = df['Administrative'] + df['Informational'] + df['ProductRelated']"
      ],
      "metadata": {
        "id": "1DB8XKBrmoDJ"
      },
      "execution_count": null,
      "outputs": []
    },
    {
      "cell_type": "code",
      "source": [
        "df['S'] = df['PageValues'] * (1 - df['ExitRates'])"
      ],
      "metadata": {
        "id": "5nLx8kphmsNl"
      },
      "execution_count": null,
      "outputs": []
    },
    {
      "cell_type": "code",
      "source": [
        "df['R'] = 12 - df['Month'] + 1"
      ],
      "metadata": {
        "id": "97lepbZPmu72"
      },
      "execution_count": null,
      "outputs": []
    },
    {
      "cell_type": "code",
      "source": [
        "def compute_length(row):\n",
        "    if row['VisitorType'] == 1:   # Returning Visitor\n",
        "        return 3\n",
        "    elif row['VisitorType'] == 0: # New Visitor\n",
        "        return 1\n",
        "    else:                         # Other\n",
        "        return 2\n",
        "\n",
        "df['L'] = df.apply(compute_length, axis=1)"
      ],
      "metadata": {
        "id": "A-Vmg0OQm1Zm"
      },
      "execution_count": null,
      "outputs": []
    },
    {
      "cell_type": "code",
      "source": [
        "lrfs_cols = ['L', 'R', 'F', 'S']\n",
        "df_lrfs = df[lrfs_cols + ['Revenue']]\n",
        "\n",
        "print(df_lrfs.head())\n"
      ],
      "metadata": {
        "colab": {
          "base_uri": "https://localhost:8080/"
        },
        "id": "sCz9noxTm4Cp",
        "outputId": "bcbc165a-83c7-4c82-dfeb-7fdc62c4bbf1"
      },
      "execution_count": null,
      "outputs": [
        {
          "output_type": "stream",
          "name": "stdout",
          "text": [
            "   L   R   F    S  Revenue\n",
            "0  2  11   1  0.0        0\n",
            "1  2  11   2  0.0        0\n",
            "2  2  11   1  0.0        0\n",
            "3  2  11   2  0.0        0\n",
            "4  2  11  10  0.0        0\n"
          ]
        }
      ]
    },
    {
      "cell_type": "code",
      "source": [
        "scaler = StandardScaler()\n",
        "X_scaled = scaler.fit_transform(df_lrfs[lrfs_cols])\n",
        "\n",
        "df_scaled = pd.DataFrame(X_scaled, columns=lrfs_cols)\n",
        "df_scaled['Revenue'] = df_lrfs['Revenue']\n",
        "\n",
        "print(df_scaled.head())"
      ],
      "metadata": {
        "colab": {
          "base_uri": "https://localhost:8080/"
        },
        "id": "XaeIXGZhnJ-q",
        "outputId": "12468350-00b7-4f56-86c1-60e0fa5472b3"
      },
      "execution_count": null,
      "outputs": [
        {
          "output_type": "stream",
          "name": "stdout",
          "text": [
            "          L         R         F         S  Revenue\n",
            "0  0.365812  1.665924 -0.721321 -0.316116        0\n",
            "1  0.365812  1.665924 -0.699821 -0.316116        0\n",
            "2  0.365812  1.665924 -0.721321 -0.316116        0\n",
            "3  0.365812  1.665924 -0.699821 -0.316116        0\n",
            "4  0.365812  1.665924 -0.527823 -0.316116        0\n"
          ]
        }
      ]
    },
    {
      "cell_type": "code",
      "source": [
        "df_scaled.to_csv(\"lrfs_features.csv\", index=False)\n",
        "print(\"✅ Processed LRFS dataset saved at 'lrfs_features.csv'\")"
      ],
      "metadata": {
        "colab": {
          "base_uri": "https://localhost:8080/"
        },
        "id": "Q86FU3b-nS8w",
        "outputId": "eaa2a6f4-549d-462f-f37e-d194fb17022b"
      },
      "execution_count": null,
      "outputs": [
        {
          "output_type": "stream",
          "name": "stdout",
          "text": [
            "✅ Processed LRFS dataset saved at 'lrfs_features.csv'\n"
          ]
        }
      ]
    },
    {
      "cell_type": "code",
      "source": [
        "print(df_scaled.describe())\n"
      ],
      "metadata": {
        "colab": {
          "base_uri": "https://localhost:8080/"
        },
        "id": "LIWxYtd8oOsZ",
        "outputId": "2965f812-ff7e-4c12-c47f-7411f44d66e0"
      },
      "execution_count": null,
      "outputs": [
        {
          "output_type": "stream",
          "name": "stdout",
          "text": [
            "                  L             R             F             S       Revenue\n",
            "count  1.233000e+04  1.233000e+04  1.233000e+04  1.233000e+04  12330.000000\n",
            "mean   2.137967e-16  2.212882e-16 -1.844069e-17  4.610172e-18      0.154745\n",
            "std    1.000041e+00  1.000041e+00  1.000041e+00  1.000041e+00      0.361676\n",
            "min   -2.437460e+00 -1.281578e+00 -7.428208e-01 -3.161159e-01      0.000000\n",
            "25%    3.658123e-01 -9.868275e-01 -5.708228e-01 -3.161159e-01      0.000000\n",
            "50%    3.658123e-01  1.921733e-01 -3.128257e-01 -3.161159e-01      0.000000\n",
            "75%    3.658123e-01  7.816737e-01  1.601688e-01 -3.161159e-01      0.000000\n",
            "max    3.169085e+00  1.665924e+00  1.529599e+01  1.928668e+01      1.000000\n"
          ]
        }
      ]
    }
  ]
}